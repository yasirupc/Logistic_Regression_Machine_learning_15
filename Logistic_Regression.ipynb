{
 "cells": [
  {
   "cell_type": "code",
   "execution_count": 1,
   "id": "d6e8ff98",
   "metadata": {},
   "outputs": [],
   "source": [
    "# hello Guys welcome back to my channel\n",
    "# if you are new to this channel please subscibe it\n",
    "# today we will work with logistic regression model to predict some data \n",
    "# who will buy insurance or not, 0 means he or she will not by and 1 means will buy the insuarnce\n",
    "# so lets continue our work to jump into code"
   ]
  },
  {
   "cell_type": "code",
   "execution_count": 2,
   "id": "80701087",
   "metadata": {},
   "outputs": [],
   "source": [
    "# step 1 import library \n",
    "import matplotlib.pyplot as plt\n",
    "import pandas as pd"
   ]
  },
  {
   "cell_type": "code",
   "execution_count": 3,
   "id": "0032c060",
   "metadata": {},
   "outputs": [
    {
     "data": {
      "text/html": [
       "<div>\n",
       "<style scoped>\n",
       "    .dataframe tbody tr th:only-of-type {\n",
       "        vertical-align: middle;\n",
       "    }\n",
       "\n",
       "    .dataframe tbody tr th {\n",
       "        vertical-align: top;\n",
       "    }\n",
       "\n",
       "    .dataframe thead th {\n",
       "        text-align: right;\n",
       "    }\n",
       "</style>\n",
       "<table border=\"1\" class=\"dataframe\">\n",
       "  <thead>\n",
       "    <tr style=\"text-align: right;\">\n",
       "      <th></th>\n",
       "      <th>Age</th>\n",
       "      <th>Bought_insurance</th>\n",
       "    </tr>\n",
       "  </thead>\n",
       "  <tbody>\n",
       "    <tr>\n",
       "      <th>0</th>\n",
       "      <td>22</td>\n",
       "      <td>0</td>\n",
       "    </tr>\n",
       "    <tr>\n",
       "      <th>1</th>\n",
       "      <td>25</td>\n",
       "      <td>0</td>\n",
       "    </tr>\n",
       "    <tr>\n",
       "      <th>2</th>\n",
       "      <td>47</td>\n",
       "      <td>1</td>\n",
       "    </tr>\n",
       "    <tr>\n",
       "      <th>3</th>\n",
       "      <td>52</td>\n",
       "      <td>0</td>\n",
       "    </tr>\n",
       "    <tr>\n",
       "      <th>4</th>\n",
       "      <td>46</td>\n",
       "      <td>1</td>\n",
       "    </tr>\n",
       "  </tbody>\n",
       "</table>\n",
       "</div>"
      ],
      "text/plain": [
       "   Age  Bought_insurance\n",
       "0   22                 0\n",
       "1   25                 0\n",
       "2   47                 1\n",
       "3   52                 0\n",
       "4   46                 1"
      ]
     },
     "execution_count": 3,
     "metadata": {},
     "output_type": "execute_result"
    }
   ],
   "source": [
    "# import dataset \n",
    "df=pd.read_csv(\"C://Users//yasir//Desktop//Python//Youtube//Logistic_Regression.csv\")\n",
    "df.head(5)"
   ]
  },
  {
   "cell_type": "code",
   "execution_count": 5,
   "id": "8412e99f",
   "metadata": {},
   "outputs": [
    {
     "data": {
      "text/plain": [
       "<matplotlib.collections.PathCollection at 0x2ca1072a970>"
      ]
     },
     "execution_count": 5,
     "metadata": {},
     "output_type": "execute_result"
    },
    {
     "data": {
      "image/png": "[encoded data removed]",
      "text/plain": [
       "<Figure size 432x288 with 1 Axes>"
      ]
     },
     "metadata": {
      "needs_background": "light"
     },
     "output_type": "display_data"
    }
   ],
   "source": [
    "# now lets plot our data to see the distributions\n",
    "plt.scatter(df.Age, df.Bought_insurance, marker=\"+\", color=\"red\")"
   ]
  },
  {
   "cell_type": "code",
   "execution_count": 6,
   "id": "7b8f5483",
   "metadata": {},
   "outputs": [
    {
     "data": {
      "text/plain": [
       "(28, 2)"
      ]
     },
     "execution_count": 6,
     "metadata": {},
     "output_type": "execute_result"
    }
   ],
   "source": [
    "# lets check the shape of our data \n",
    "df.shape"
   ]
  },
  {
   "cell_type": "code",
   "execution_count": 17,
   "id": "add37b07",
   "metadata": {},
   "outputs": [],
   "source": [
    "# now lets split our data into train test , lets change the data split and see accuracy \n",
    "from sklearn.model_selection import train_test_split\n",
    "X_train, X_test, y_train,y_test=train_test_split(df[['Age']], df.Bought_insurance, test_size=0.2)"
   ]
  },
  {
   "cell_type": "code",
   "execution_count": 18,
   "id": "94439e8b",
   "metadata": {},
   "outputs": [
    {
     "data": {
      "text/plain": [
       "(    Age\n",
       " 1    25\n",
       " 0    22\n",
       " 5    56\n",
       " 3    52\n",
       " 4    46\n",
       " 11   28\n",
       " 25   50\n",
       " 22   40\n",
       " 6    55\n",
       " 26   55\n",
       " 20   21\n",
       " 13   29\n",
       " 21   26\n",
       " 17   58\n",
       " 19   18\n",
       " 27   24\n",
       " 24   45\n",
       " 18   19\n",
       " 7    60\n",
       " 2    47\n",
       " 8    62\n",
       " 23   46,\n",
       "     Age\n",
       " 10   18\n",
       " 9    61\n",
       " 15   55\n",
       " 16   25\n",
       " 14   49\n",
       " 12   27)"
      ]
     },
     "execution_count": 18,
     "metadata": {},
     "output_type": "execute_result"
    }
   ],
   "source": [
    "X_train, X_test"
   ]
  },
  {
   "cell_type": "code",
   "execution_count": 19,
   "id": "72dc78d1",
   "metadata": {},
   "outputs": [
    {
     "data": {
      "text/plain": [
       "(1     0\n",
       " 0     0\n",
       " 5     1\n",
       " 3     0\n",
       " 4     1\n",
       " 11    0\n",
       " 25    1\n",
       " 22    1\n",
       " 6     0\n",
       " 26    1\n",
       " 20    0\n",
       " 13    0\n",
       " 21    0\n",
       " 17    1\n",
       " 19    0\n",
       " 27    0\n",
       " 24    1\n",
       " 18    0\n",
       " 7     1\n",
       " 2     1\n",
       " 8     1\n",
       " 23    1\n",
       " Name: Bought_insurance, dtype: int64,\n",
       " 10    0\n",
       " 9     1\n",
       " 15    1\n",
       " 16    1\n",
       " 14    1\n",
       " 12    0\n",
       " Name: Bought_insurance, dtype: int64)"
      ]
     },
     "execution_count": 19,
     "metadata": {},
     "output_type": "execute_result"
    }
   ],
   "source": [
    " y_train,y_test"
   ]
  },
  {
   "cell_type": "code",
   "execution_count": 20,
   "id": "3c5aae78",
   "metadata": {},
   "outputs": [],
   "source": [
    "# import the model LogisticRegression\n",
    "from sklearn.linear_model import LogisticRegression"
   ]
  },
  {
   "cell_type": "code",
   "execution_count": 21,
   "id": "bf16cfd6",
   "metadata": {},
   "outputs": [],
   "source": [
    "# define the model \n",
    "model=LogisticRegression()"
   ]
  },
  {
   "cell_type": "code",
   "execution_count": 22,
   "id": "49197fa0",
   "metadata": {},
   "outputs": [
    {
     "data": {
      "text/plain": [
       "LogisticRegression()"
      ]
     },
     "execution_count": 22,
     "metadata": {},
     "output_type": "execute_result"
    }
   ],
   "source": [
    "# train the model \n",
    "model.fit(X_train, y_train)"
   ]
  },
  {
   "cell_type": "code",
   "execution_count": 25,
   "id": "54c31c76",
   "metadata": {},
   "outputs": [
    {
     "data": {
      "text/plain": [
       "array([0, 1, 1, 0, 1, 0], dtype=int64)"
      ]
     },
     "execution_count": 25,
     "metadata": {},
     "output_type": "execute_result"
    }
   ],
   "source": [
    "# predict \n",
    "model.predict(X_test)"
   ]
  },
  {
   "cell_type": "code",
   "execution_count": 24,
   "id": "623fbf5e",
   "metadata": {},
   "outputs": [
    {
     "data": {
      "text/html": [
       "<div>\n",
       "<style scoped>\n",
       "    .dataframe tbody tr th:only-of-type {\n",
       "        vertical-align: middle;\n",
       "    }\n",
       "\n",
       "    .dataframe tbody tr th {\n",
       "        vertical-align: top;\n",
       "    }\n",
       "\n",
       "    .dataframe thead th {\n",
       "        text-align: right;\n",
       "    }\n",
       "</style>\n",
       "<table border=\"1\" class=\"dataframe\">\n",
       "  <thead>\n",
       "    <tr style=\"text-align: right;\">\n",
       "      <th></th>\n",
       "      <th>Age</th>\n",
       "    </tr>\n",
       "  </thead>\n",
       "  <tbody>\n",
       "    <tr>\n",
       "      <th>10</th>\n",
       "      <td>18</td>\n",
       "    </tr>\n",
       "    <tr>\n",
       "      <th>9</th>\n",
       "      <td>61</td>\n",
       "    </tr>\n",
       "    <tr>\n",
       "      <th>15</th>\n",
       "      <td>55</td>\n",
       "    </tr>\n",
       "    <tr>\n",
       "      <th>16</th>\n",
       "      <td>25</td>\n",
       "    </tr>\n",
       "    <tr>\n",
       "      <th>14</th>\n",
       "      <td>49</td>\n",
       "    </tr>\n",
       "    <tr>\n",
       "      <th>12</th>\n",
       "      <td>27</td>\n",
       "    </tr>\n",
       "  </tbody>\n",
       "</table>\n",
       "</div>"
      ],
      "text/plain": [
       "    Age\n",
       "10   18\n",
       "9    61\n",
       "15   55\n",
       "16   25\n",
       "14   49\n",
       "12   27"
      ]
     },
     "execution_count": 24,
     "metadata": {},
     "output_type": "execute_result"
    }
   ],
   "source": [
    "# lets see from our data who buy or not\n",
    "X_test\n",
    "# age 28 are not going to buy \n",
    "#  49 and 52 are going to buy the insurance\n",
    "# the spliting data is split randomely "
   ]
  },
  {
   "cell_type": "code",
   "execution_count": 26,
   "id": "fdef2b92",
   "metadata": {},
   "outputs": [
    {
     "data": {
      "text/plain": [
       "0.8333333333333334"
      ]
     },
     "execution_count": 26,
     "metadata": {},
     "output_type": "execute_result"
    }
   ],
   "source": [
    "# lets check the score of accuracy, its neam if you used the more data the more you can get a good accuracy score\n",
    "model.score(X_test, y_test)"
   ]
  },
  {
   "cell_type": "code",
   "execution_count": 27,
   "id": "bfcef33d",
   "metadata": {},
   "outputs": [
    {
     "data": {
      "text/plain": [
       "array([[0.97540808, 0.02459192],\n",
       "       [0.04077105, 0.95922895],\n",
       "       [0.09939768, 0.90060232],\n",
       "       [0.92871912, 0.07128088],\n",
       "       [0.22274994, 0.77725006],\n",
       "       [0.90457322, 0.09542678]])"
      ]
     },
     "execution_count": 27,
     "metadata": {},
     "output_type": "execute_result"
    }
   ],
   "source": [
    "# you can also check probability , click tab\n",
    "model.predict_proba(X_test)"
   ]
  },
  {
   "cell_type": "code",
   "execution_count": null,
   "id": "05824487",
   "metadata": {},
   "outputs": [],
   "source": [
    "# this was a tody session \n",
    "# Thank you for watching the videos\n",
    "# please subscribe my channel for more video \n",
    "# thanks again for your support \n",
    "# see you in the next video bye bye for now "
   ]
  },
  {
   "cell_type": "code",
   "execution_count": null,
   "id": "eae662d5",
   "metadata": {},
   "outputs": [],
   "source": []
  },
  {
   "cell_type": "code",
   "execution_count": null,
   "id": "ddefb91d",
   "metadata": {},
   "outputs": [],
   "source": []
  }
 ],
 "metadata": {
  "kernelspec": {
   "display_name": "Python 3",
   "language": "python",
   "name": "python3"
  },
  "language_info": {
   "codemirror_mode": {
    "name": "ipython",
    "version": 3
   },
   "file_extension": ".py",
   "mimetype": "text/x-python",
   "name": "python",
   "nbconvert_exporter": "python",
   "pygments_lexer": "ipython3",
   "version": "3.8.8"
  }
 },
 "nbformat": 4,
 "nbformat_minor": 5
}
